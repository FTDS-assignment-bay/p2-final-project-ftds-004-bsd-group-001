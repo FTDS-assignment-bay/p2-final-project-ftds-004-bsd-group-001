{
 "cells": [
  {
   "cell_type": "code",
   "execution_count": 37,
   "metadata": {},
   "outputs": [],
   "source": [
    "# Melakukan import libraries yang akan digunakan\n",
    "import pandas as pd\n",
    "import numpy as np\n",
    "import pickle\n",
    "import json"
   ]
  },
  {
   "cell_type": "code",
   "execution_count": 38,
   "metadata": {},
   "outputs": [],
   "source": [
    "# Melakukan load model dan file-file lain yang dibutuhkan\n",
    "with open('model_scaler.pkl', 'rb') as file_1:\n",
    "  scaler = pickle.load(file_1)\n",
    "with open('model_pca.pkl', 'rb') as file_2:\n",
    "  pca = pickle.load(file_2)\n",
    "with open('model_kp.pkl', 'rb') as file_3:\n",
    "  kp = pickle.load(file_3)\n",
    "with open('index_cols.txt', 'r') as file_4:\n",
    "  index_cols = json.load(file_4)\n",
    "with open('num_cols.txt', 'r') as file_5:\n",
    "  num_cols = json.load(file_5)\n",
    "with open('cat_cols.txt', 'r') as file_6:\n",
    "  cat_cols = json.load(file_6)"
   ]
  },
  {
   "cell_type": "code",
   "execution_count": 39,
   "metadata": {},
   "outputs": [
    {
     "data": {
      "text/html": [
       "<div>\n",
       "<style scoped>\n",
       "    .dataframe tbody tr th:only-of-type {\n",
       "        vertical-align: middle;\n",
       "    }\n",
       "\n",
       "    .dataframe tbody tr th {\n",
       "        vertical-align: top;\n",
       "    }\n",
       "\n",
       "    .dataframe thead th {\n",
       "        text-align: right;\n",
       "    }\n",
       "</style>\n",
       "<table border=\"1\" class=\"dataframe\">\n",
       "  <thead>\n",
       "    <tr style=\"text-align: right;\">\n",
       "      <th></th>\n",
       "      <th>neighborhood</th>\n",
       "      <th>price</th>\n",
       "      <th>size_in_sqft</th>\n",
       "      <th>price_per_sqft</th>\n",
       "      <th>no_of_bedrooms</th>\n",
       "      <th>no_of_bathrooms</th>\n",
       "      <th>maid_room</th>\n",
       "      <th>concierge</th>\n",
       "      <th>pets_allowed</th>\n",
       "      <th>private_garden</th>\n",
       "      <th>private_gym</th>\n",
       "      <th>private_jacuzzi</th>\n",
       "      <th>private_pool</th>\n",
       "      <th>shared_pool</th>\n",
       "    </tr>\n",
       "  </thead>\n",
       "  <tbody>\n",
       "    <tr>\n",
       "      <th>0</th>\n",
       "      <td>Downtown Dubai</td>\n",
       "      <td>15800000</td>\n",
       "      <td>5253</td>\n",
       "      <td>3007.81</td>\n",
       "      <td>4</td>\n",
       "      <td>5</td>\n",
       "      <td>False</td>\n",
       "      <td>False</td>\n",
       "      <td>False</td>\n",
       "      <td>True</td>\n",
       "      <td>True</td>\n",
       "      <td>False</td>\n",
       "      <td>True</td>\n",
       "      <td>False</td>\n",
       "    </tr>\n",
       "  </tbody>\n",
       "</table>\n",
       "</div>"
      ],
      "text/plain": [
       "     neighborhood     price  size_in_sqft  price_per_sqft  no_of_bedrooms  \\\n",
       "0  Downtown Dubai  15800000          5253         3007.81               4   \n",
       "\n",
       "   no_of_bathrooms  maid_room  concierge  pets_allowed  private_garden  \\\n",
       "0                5      False      False         False            True   \n",
       "\n",
       "   private_gym  private_jacuzzi  private_pool  shared_pool  \n",
       "0         True            False          True        False  "
      ]
     },
     "execution_count": 39,
     "metadata": {},
     "output_type": "execute_result"
    }
   ],
   "source": [
    "# Menjadikan data inference menjadi dataframe\n",
    "data_inf = pd.read_csv('data_inference.csv')\n",
    "data_inf"
   ]
  },
  {
   "cell_type": "code",
   "execution_count": 40,
   "metadata": {},
   "outputs": [
    {
     "data": {
      "text/html": [
       "<div>\n",
       "<style scoped>\n",
       "    .dataframe tbody tr th:only-of-type {\n",
       "        vertical-align: middle;\n",
       "    }\n",
       "\n",
       "    .dataframe tbody tr th {\n",
       "        vertical-align: top;\n",
       "    }\n",
       "\n",
       "    .dataframe thead th {\n",
       "        text-align: right;\n",
       "    }\n",
       "</style>\n",
       "<table border=\"1\" class=\"dataframe\">\n",
       "  <thead>\n",
       "    <tr style=\"text-align: right;\">\n",
       "      <th></th>\n",
       "      <th>neighborhood</th>\n",
       "      <th>maid_room</th>\n",
       "      <th>concierge</th>\n",
       "      <th>pets_allowed</th>\n",
       "      <th>private_garden</th>\n",
       "      <th>private_gym</th>\n",
       "      <th>private_jacuzzi</th>\n",
       "      <th>private_pool</th>\n",
       "      <th>shared_pool</th>\n",
       "    </tr>\n",
       "  </thead>\n",
       "  <tbody>\n",
       "    <tr>\n",
       "      <th>0</th>\n",
       "      <td>Downtown Dubai</td>\n",
       "      <td>False</td>\n",
       "      <td>False</td>\n",
       "      <td>False</td>\n",
       "      <td>True</td>\n",
       "      <td>True</td>\n",
       "      <td>False</td>\n",
       "      <td>True</td>\n",
       "      <td>False</td>\n",
       "    </tr>\n",
       "  </tbody>\n",
       "</table>\n",
       "</div>"
      ],
      "text/plain": [
       "     neighborhood  maid_room  concierge  pets_allowed  private_garden  \\\n",
       "0  Downtown Dubai      False      False         False            True   \n",
       "\n",
       "   private_gym  private_jacuzzi  private_pool  shared_pool  \n",
       "0         True            False          True        False  "
      ]
     },
     "execution_count": 40,
     "metadata": {},
     "output_type": "execute_result"
    }
   ],
   "source": [
    "# Membuat data train dan test data numerik\n",
    "inf_num = data_inf[num_cols]\n",
    "# Membuat data train dan test data kategorikal\n",
    "inf_cat = data_inf[cat_cols]\n",
    "inf_cat"
   ]
  },
  {
   "cell_type": "code",
   "execution_count": 41,
   "metadata": {},
   "outputs": [],
   "source": [
    "# Melakukan scaling dan dimension reduction\n",
    "inf_scaled = scaler.transform(inf_num)\n",
    "inf_scaled_pca = pca.transform(inf_scaled)"
   ]
  },
  {
   "cell_type": "code",
   "execution_count": 42,
   "metadata": {},
   "outputs": [
    {
     "data": {
      "text/html": [
       "<div>\n",
       "<style scoped>\n",
       "    .dataframe tbody tr th:only-of-type {\n",
       "        vertical-align: middle;\n",
       "    }\n",
       "\n",
       "    .dataframe tbody tr th {\n",
       "        vertical-align: top;\n",
       "    }\n",
       "\n",
       "    .dataframe thead tr th {\n",
       "        text-align: left;\n",
       "    }\n",
       "</style>\n",
       "<table border=\"1\" class=\"dataframe\">\n",
       "  <thead>\n",
       "    <tr>\n",
       "      <th></th>\n",
       "      <th>PCA1</th>\n",
       "      <th>PCA2</th>\n",
       "      <th>PCA3</th>\n",
       "      <th>neighborhood</th>\n",
       "      <th>maid_room</th>\n",
       "      <th>concierge</th>\n",
       "      <th>pets_allowed</th>\n",
       "      <th>private_garden</th>\n",
       "      <th>private_gym</th>\n",
       "      <th>private_jacuzzi</th>\n",
       "      <th>private_pool</th>\n",
       "      <th>shared_pool</th>\n",
       "    </tr>\n",
       "  </thead>\n",
       "  <tbody>\n",
       "    <tr>\n",
       "      <th>0</th>\n",
       "      <td>12.432994</td>\n",
       "      <td>4.498791</td>\n",
       "      <td>5.102783</td>\n",
       "      <td>Downtown Dubai</td>\n",
       "      <td>False</td>\n",
       "      <td>False</td>\n",
       "      <td>False</td>\n",
       "      <td>True</td>\n",
       "      <td>True</td>\n",
       "      <td>False</td>\n",
       "      <td>True</td>\n",
       "      <td>False</td>\n",
       "    </tr>\n",
       "  </tbody>\n",
       "</table>\n",
       "</div>"
      ],
      "text/plain": [
       "        PCA1      PCA2      PCA3    neighborhood maid_room concierge  \\\n",
       "0  12.432994  4.498791  5.102783  Downtown Dubai     False     False   \n",
       "\n",
       "  pets_allowed private_garden private_gym private_jacuzzi private_pool  \\\n",
       "0        False           True        True           False         True   \n",
       "\n",
       "  shared_pool  \n",
       "0       False  "
      ]
     },
     "execution_count": 42,
     "metadata": {},
     "output_type": "execute_result"
    }
   ],
   "source": [
    "inf_final = np.concatenate([inf_scaled_pca, inf_cat], axis=1)\n",
    "inf_final = pd.DataFrame(inf_final, columns=[['PCA1', 'PCA2', 'PCA3'] + cat_cols])\n",
    "inf_final = inf_final.infer_objects()\n",
    "inf_final"
   ]
  },
  {
   "cell_type": "code",
   "execution_count": 43,
   "metadata": {},
   "outputs": [
    {
     "data": {
      "text/plain": [
       "array([0], dtype=uint16)"
      ]
     },
     "execution_count": 43,
     "metadata": {},
     "output_type": "execute_result"
    }
   ],
   "source": [
    "pred = kp.predict(inf_final, categorical=index_cols)\n",
    "pred"
   ]
  }
 ],
 "metadata": {
  "kernelspec": {
   "display_name": "base",
   "language": "python",
   "name": "python3"
  },
  "language_info": {
   "codemirror_mode": {
    "name": "ipython",
    "version": 3
   },
   "file_extension": ".py",
   "mimetype": "text/x-python",
   "name": "python",
   "nbconvert_exporter": "python",
   "pygments_lexer": "ipython3",
   "version": "3.9.13"
  }
 },
 "nbformat": 4,
 "nbformat_minor": 2
}
